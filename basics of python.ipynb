{
 "cells": [
  {
   "cell_type": "code",
   "execution_count": 31,
   "id": "ba953eba",
   "metadata": {},
   "outputs": [
    {
     "ename": "SyntaxError",
     "evalue": "invalid syntax (3994364586.py, line 1)",
     "output_type": "error",
     "traceback": [
      "\u001b[1;36m  Cell \u001b[1;32mIn[31], line 1\u001b[1;36m\u001b[0m\n\u001b[1;33m    My first program\u001b[0m\n\u001b[1;37m       ^\u001b[0m\n\u001b[1;31mSyntaxError\u001b[0m\u001b[1;31m:\u001b[0m invalid syntax\n"
     ]
    }
   ],
   "source": [
    "My first program"
   ]
  },
  {
   "cell_type": "markdown",
   "id": "f0f5dae8",
   "metadata": {},
   "source": [
    "### My first program"
   ]
  },
  {
   "cell_type": "code",
   "execution_count": null,
   "id": "23eafa0c",
   "metadata": {},
   "outputs": [],
   "source": [
    "print(\"hello world\")"
   ]
  },
  {
   "cell_type": "code",
   "execution_count": null,
   "id": "d569de73",
   "metadata": {},
   "outputs": [],
   "source": [
    "print(\"jayati\")"
   ]
  },
  {
   "cell_type": "code",
   "execution_count": null,
   "id": "cec64dbb",
   "metadata": {},
   "outputs": [],
   "source": [
    "name=\"jayati\"\n",
    "age=20\n",
    "income=0"
   ]
  },
  {
   "cell_type": "code",
   "execution_count": null,
   "id": "f6205b74",
   "metadata": {},
   "outputs": [],
   "source": [
    "print(name)\n",
    "print(age)\n",
    "print(income)"
   ]
  },
  {
   "cell_type": "code",
   "execution_count": null,
   "id": "d5e89361",
   "metadata": {},
   "outputs": [],
   "source": [
    "namelist=\"jayati\",\"kanak\""
   ]
  },
  {
   "cell_type": "code",
   "execution_count": null,
   "id": "063c3f1b",
   "metadata": {},
   "outputs": [],
   "source": [
    "print(namelist)\n"
   ]
  },
  {
   "cell_type": "code",
   "execution_count": null,
   "id": "c06f0941",
   "metadata": {},
   "outputs": [],
   "source": [
    "name+list=\"jayati\",\"kanak\""
   ]
  },
  {
   "cell_type": "code",
   "execution_count": null,
   "id": "60cf5a5f",
   "metadata": {},
   "outputs": [],
   "source": [
    "name_list=\"jayati\",\"kanak\""
   ]
  },
  {
   "cell_type": "code",
   "execution_count": null,
   "id": "f9010127",
   "metadata": {},
   "outputs": [],
   "source": [
    "print(name_list)\n"
   ]
  },
  {
   "cell_type": "code",
   "execution_count": null,
   "id": "a1abc6e3",
   "metadata": {},
   "outputs": [],
   "source": [
    "name_list=\"jayati\",\"kanak\"\n",
    "name_list"
   ]
  },
  {
   "cell_type": "code",
   "execution_count": null,
   "id": "4bc3915b",
   "metadata": {},
   "outputs": [],
   "source": [
    "type(\"ai\")"
   ]
  },
  {
   "cell_type": "code",
   "execution_count": null,
   "id": "b18ddf79",
   "metadata": {},
   "outputs": [],
   "source": [
    "x=10"
   ]
  },
  {
   "cell_type": "code",
   "execution_count": null,
   "id": "020841dc",
   "metadata": {},
   "outputs": [],
   "source": [
    "type(x)"
   ]
  },
  {
   "cell_type": "code",
   "execution_count": null,
   "id": "e16203dc",
   "metadata": {},
   "outputs": [],
   "source": [
    "z=True\n",
    "type(z)"
   ]
  },
  {
   "cell_type": "code",
   "execution_count": null,
   "id": "4947d5db",
   "metadata": {},
   "outputs": [],
   "source": [
    "sample_list=[1,2,3,4,5,'hello',4.90,2.3]\n",
    "sample_list\n",
    "type(sample_list)\n"
   ]
  },
  {
   "cell_type": "code",
   "execution_count": null,
   "id": "ee81f963",
   "metadata": {},
   "outputs": [],
   "source": [
    "type(sample_list)\n"
   ]
  },
  {
   "cell_type": "code",
   "execution_count": 28,
   "id": "a1831c8b",
   "metadata": {},
   "outputs": [
    {
     "ename": "TypeError",
     "evalue": "'str' object is not callable",
     "output_type": "error",
     "traceback": [
      "\u001b[1;31m---------------------------------------------------------------------------\u001b[0m",
      "\u001b[1;31mTypeError\u001b[0m                                 Traceback (most recent call last)",
      "Cell \u001b[1;32mIn[28], line 1\u001b[0m\n\u001b[1;32m----> 1\u001b[0m \u001b[38;5;28mtype\u001b[39m(\u001b[38;5;124m\"\u001b[39m\u001b[38;5;124mai\u001b[39m\u001b[38;5;124m\"\u001b[39m)\n",
      "\u001b[1;31mTypeError\u001b[0m: 'str' object is not callable"
     ]
    }
   ],
   "source": [
    "type(\"ai\")"
   ]
  },
  {
   "cell_type": "code",
   "execution_count": 30,
   "id": "731f0312",
   "metadata": {},
   "outputs": [
    {
     "ename": "TypeError",
     "evalue": "'str' object is not callable",
     "output_type": "error",
     "traceback": [
      "\u001b[1;31m---------------------------------------------------------------------------\u001b[0m",
      "\u001b[1;31mTypeError\u001b[0m                                 Traceback (most recent call last)",
      "Cell \u001b[1;32mIn[30], line 1\u001b[0m\n\u001b[1;32m----> 1\u001b[0m \u001b[38;5;28mtype\u001b[39m( \u001b[38;5;241m10\u001b[39m )\n",
      "\u001b[1;31mTypeError\u001b[0m: 'str' object is not callable"
     ]
    }
   ],
   "source": [
    "type( 10 )"
   ]
  },
  {
   "cell_type": "code",
   "execution_count": 32,
   "id": "644f0af1",
   "metadata": {},
   "outputs": [
    {
     "ename": "TypeError",
     "evalue": "'str' object is not callable",
     "output_type": "error",
     "traceback": [
      "\u001b[1;31m---------------------------------------------------------------------------\u001b[0m",
      "\u001b[1;31mTypeError\u001b[0m                                 Traceback (most recent call last)",
      "Cell \u001b[1;32mIn[32], line 1\u001b[0m\n\u001b[1;32m----> 1\u001b[0m \u001b[38;5;28mtype\u001b[39m(\u001b[38;5;124m\"\u001b[39m\u001b[38;5;124mai\u001b[39m\u001b[38;5;124m\"\u001b[39m)\n",
      "\u001b[1;31mTypeError\u001b[0m: 'str' object is not callable"
     ]
    }
   ],
   "source": [
    "type(\"ai\")"
   ]
  },
  {
   "cell_type": "code",
   "execution_count": 1,
   "id": "e415282c",
   "metadata": {},
   "outputs": [],
   "source": [
    "sample_set={1,2,3,4,5,6.9,2.5,3.6,7.1,'hi','jayati','aeingela','kanak','cat'}"
   ]
  },
  {
   "cell_type": "code",
   "execution_count": 2,
   "id": "39cd9abb",
   "metadata": {},
   "outputs": [
    {
     "data": {
      "text/plain": [
       "{1, 2, 2.5, 3, 3.6, 4, 5, 6.9, 7.1, 'aeingela', 'cat', 'hi', 'jayati', 'kanak'}"
      ]
     },
     "execution_count": 2,
     "metadata": {},
     "output_type": "execute_result"
    }
   ],
   "source": [
    "sample_set"
   ]
  },
  {
   "cell_type": "code",
   "execution_count": 3,
   "id": "203fad01",
   "metadata": {},
   "outputs": [
    {
     "ename": "TypeError",
     "evalue": "'set' object is not subscriptable",
     "output_type": "error",
     "traceback": [
      "\u001b[1;31m---------------------------------------------------------------------------\u001b[0m",
      "\u001b[1;31mTypeError\u001b[0m                                 Traceback (most recent call last)",
      "Cell \u001b[1;32mIn[3], line 1\u001b[0m\n\u001b[1;32m----> 1\u001b[0m sample_set[\u001b[38;5;241m0\u001b[39m]\n",
      "\u001b[1;31mTypeError\u001b[0m: 'set' object is not subscriptable"
     ]
    }
   ],
   "source": [
    "sample_set[0]"
   ]
  },
  {
   "cell_type": "code",
   "execution_count": 4,
   "id": "e9983a8c",
   "metadata": {},
   "outputs": [
    {
     "ename": "TypeError",
     "evalue": "'set' object does not support item assignment",
     "output_type": "error",
     "traceback": [
      "\u001b[1;31m---------------------------------------------------------------------------\u001b[0m",
      "\u001b[1;31mTypeError\u001b[0m                                 Traceback (most recent call last)",
      "Cell \u001b[1;32mIn[4], line 1\u001b[0m\n\u001b[1;32m----> 1\u001b[0m sample_set[\u001b[38;5;241m0\u001b[39m]\u001b[38;5;241m=\u001b[39m\u001b[38;5;241m1\u001b[39m\n",
      "\u001b[1;31mTypeError\u001b[0m: 'set' object does not support item assignment"
     ]
    }
   ],
   "source": [
    "sample_set[0]=1"
   ]
  },
  {
   "cell_type": "code",
   "execution_count": 5,
   "id": "6785a0fd",
   "metadata": {},
   "outputs": [],
   "source": [
    "sample_set.add(20)"
   ]
  },
  {
   "cell_type": "code",
   "execution_count": 6,
   "id": "048206ee",
   "metadata": {},
   "outputs": [
    {
     "data": {
      "text/plain": [
       "{1,\n",
       " 2,\n",
       " 2.5,\n",
       " 20,\n",
       " 3,\n",
       " 3.6,\n",
       " 4,\n",
       " 5,\n",
       " 6.9,\n",
       " 7.1,\n",
       " 'aeingela',\n",
       " 'cat',\n",
       " 'hi',\n",
       " 'jayati',\n",
       " 'kanak'}"
      ]
     },
     "execution_count": 6,
     "metadata": {},
     "output_type": "execute_result"
    }
   ],
   "source": [
    "sample_set\n"
   ]
  },
  {
   "cell_type": "code",
   "execution_count": 7,
   "id": "8514f7de",
   "metadata": {},
   "outputs": [],
   "source": [
    "sample_set.remove(3)"
   ]
  },
  {
   "cell_type": "code",
   "execution_count": 8,
   "id": "a19461db",
   "metadata": {},
   "outputs": [
    {
     "data": {
      "text/plain": [
       "{1,\n",
       " 2,\n",
       " 2.5,\n",
       " 20,\n",
       " 3.6,\n",
       " 4,\n",
       " 5,\n",
       " 6.9,\n",
       " 7.1,\n",
       " 'aeingela',\n",
       " 'cat',\n",
       " 'hi',\n",
       " 'jayati',\n",
       " 'kanak'}"
      ]
     },
     "execution_count": 8,
     "metadata": {},
     "output_type": "execute_result"
    }
   ],
   "source": [
    "sample_set"
   ]
  },
  {
   "cell_type": "code",
   "execution_count": 9,
   "id": "a990a186",
   "metadata": {},
   "outputs": [],
   "source": [
    "sample_set.remove('hi')"
   ]
  },
  {
   "cell_type": "code",
   "execution_count": 10,
   "id": "fc0ff485",
   "metadata": {},
   "outputs": [
    {
     "data": {
      "text/plain": [
       "{1, 2, 2.5, 20, 3.6, 4, 5, 6.9, 7.1, 'aeingela', 'cat', 'jayati', 'kanak'}"
      ]
     },
     "execution_count": 10,
     "metadata": {},
     "output_type": "execute_result"
    }
   ],
   "source": [
    "sample_set"
   ]
  },
  {
   "cell_type": "code",
   "execution_count": 11,
   "id": "dad62aa9",
   "metadata": {},
   "outputs": [],
   "source": [
    "sample_set.add(\"priya\")"
   ]
  },
  {
   "cell_type": "code",
   "execution_count": 12,
   "id": "9c43a365",
   "metadata": {},
   "outputs": [
    {
     "data": {
      "text/plain": [
       "{1,\n",
       " 2,\n",
       " 2.5,\n",
       " 20,\n",
       " 3.6,\n",
       " 4,\n",
       " 5,\n",
       " 6.9,\n",
       " 7.1,\n",
       " 'aeingela',\n",
       " 'cat',\n",
       " 'jayati',\n",
       " 'kanak',\n",
       " 'priya'}"
      ]
     },
     "execution_count": 12,
     "metadata": {},
     "output_type": "execute_result"
    }
   ],
   "source": [
    "sample_set"
   ]
  },
  {
   "cell_type": "code",
   "execution_count": 13,
   "id": "310bc874",
   "metadata": {},
   "outputs": [],
   "source": [
    "sample_set.add(0)"
   ]
  },
  {
   "cell_type": "code",
   "execution_count": 14,
   "id": "c5d4872f",
   "metadata": {},
   "outputs": [
    {
     "data": {
      "text/plain": [
       "{0,\n",
       " 1,\n",
       " 2,\n",
       " 2.5,\n",
       " 20,\n",
       " 3.6,\n",
       " 4,\n",
       " 5,\n",
       " 6.9,\n",
       " 7.1,\n",
       " 'aeingela',\n",
       " 'cat',\n",
       " 'jayati',\n",
       " 'kanak',\n",
       " 'priya'}"
      ]
     },
     "execution_count": 14,
     "metadata": {},
     "output_type": "execute_result"
    }
   ],
   "source": [
    "sample_set"
   ]
  },
  {
   "cell_type": "code",
   "execution_count": 15,
   "id": "7293d130",
   "metadata": {},
   "outputs": [],
   "source": [
    "sample_set.add(-100)"
   ]
  },
  {
   "cell_type": "code",
   "execution_count": 16,
   "id": "106104ad",
   "metadata": {},
   "outputs": [
    {
     "data": {
      "text/plain": [
       "{-100,\n",
       " 0,\n",
       " 1,\n",
       " 2,\n",
       " 2.5,\n",
       " 20,\n",
       " 3.6,\n",
       " 4,\n",
       " 5,\n",
       " 6.9,\n",
       " 7.1,\n",
       " 'aeingela',\n",
       " 'cat',\n",
       " 'jayati',\n",
       " 'kanak',\n",
       " 'priya'}"
      ]
     },
     "execution_count": 16,
     "metadata": {},
     "output_type": "execute_result"
    }
   ],
   "source": [
    "sample_set"
   ]
  },
  {
   "cell_type": "code",
   "execution_count": 17,
   "id": "4d167e99",
   "metadata": {},
   "outputs": [],
   "source": [
    "sample_set.add(200)"
   ]
  },
  {
   "cell_type": "code",
   "execution_count": 18,
   "id": "e0715054",
   "metadata": {},
   "outputs": [
    {
     "data": {
      "text/plain": [
       "{-100,\n",
       " 0,\n",
       " 1,\n",
       " 2,\n",
       " 2.5,\n",
       " 20,\n",
       " 200,\n",
       " 3.6,\n",
       " 4,\n",
       " 5,\n",
       " 6.9,\n",
       " 7.1,\n",
       " 'aeingela',\n",
       " 'cat',\n",
       " 'jayati',\n",
       " 'kanak',\n",
       " 'priya'}"
      ]
     },
     "execution_count": 18,
     "metadata": {},
     "output_type": "execute_result"
    }
   ],
   "source": [
    "sample_set"
   ]
  },
  {
   "cell_type": "markdown",
   "id": "8ceb76cb",
   "metadata": {},
   "source": [
    "# set does not allow duplicates\n",
    "## we cannot retrive the set using index\n",
    "### set is mutable\n",
    "# set has {}\n",
    "# order of the set is - then so on"
   ]
  },
  {
   "cell_type": "markdown",
   "id": "d8a47050",
   "metadata": {},
   "source": [
    "# dictionary\n",
    "## value:key\n",
    "## Indexing and square bracket\n",
    "## mutable"
   ]
  },
  {
   "cell_type": "code",
   "execution_count": 19,
   "id": "76e13058",
   "metadata": {},
   "outputs": [],
   "source": [
    "jayati={'name':'jaya',\"age\": 20 ,\"hobbies\": ['dance','sing','swim'],24:45}"
   ]
  },
  {
   "cell_type": "code",
   "execution_count": 20,
   "id": "a1256f5c",
   "metadata": {},
   "outputs": [
    {
     "data": {
      "text/plain": [
       "{'name': 'jaya', 'age': 20, 'hobbies': ['dance', 'sing', 'swim'], 24: 45}"
      ]
     },
     "execution_count": 20,
     "metadata": {},
     "output_type": "execute_result"
    }
   ],
   "source": [
    "jayati"
   ]
  },
  {
   "cell_type": "code",
   "execution_count": 21,
   "id": "992a1133",
   "metadata": {},
   "outputs": [
    {
     "ename": "SyntaxError",
     "evalue": "invalid syntax (3494958431.py, line 1)",
     "output_type": "error",
     "traceback": [
      "\u001b[1;36m  Cell \u001b[1;32mIn[21], line 1\u001b[1;36m\u001b[0m\n\u001b[1;33m    jayati.[keys]\u001b[0m\n\u001b[1;37m           ^\u001b[0m\n\u001b[1;31mSyntaxError\u001b[0m\u001b[1;31m:\u001b[0m invalid syntax\n"
     ]
    }
   ],
   "source": [
    "jayati.[keys]"
   ]
  },
  {
   "cell_type": "code",
   "execution_count": 22,
   "id": "910c8196",
   "metadata": {},
   "outputs": [
    {
     "ename": "NameError",
     "evalue": "name 'keys' is not defined",
     "output_type": "error",
     "traceback": [
      "\u001b[1;31m---------------------------------------------------------------------------\u001b[0m",
      "\u001b[1;31mNameError\u001b[0m                                 Traceback (most recent call last)",
      "Cell \u001b[1;32mIn[22], line 1\u001b[0m\n\u001b[1;32m----> 1\u001b[0m jayati[keys]\n",
      "\u001b[1;31mNameError\u001b[0m: name 'keys' is not defined"
     ]
    }
   ],
   "source": [
    "jayati[keys]"
   ]
  },
  {
   "cell_type": "code",
   "execution_count": 23,
   "id": "c8ffc0b0",
   "metadata": {},
   "outputs": [
    {
     "data": {
      "text/plain": [
       "dict_keys(['name', 'age', 'hobbies', 24])"
      ]
     },
     "execution_count": 23,
     "metadata": {},
     "output_type": "execute_result"
    }
   ],
   "source": [
    "jayati.keys()"
   ]
  },
  {
   "cell_type": "code",
   "execution_count": 24,
   "id": "b1282a64",
   "metadata": {},
   "outputs": [
    {
     "data": {
      "text/plain": [
       "dict_values(['jaya', 20, ['dance', 'sing', 'swim'], 45])"
      ]
     },
     "execution_count": 24,
     "metadata": {},
     "output_type": "execute_result"
    }
   ],
   "source": [
    "jayati.values()"
   ]
  },
  {
   "cell_type": "code",
   "execution_count": 25,
   "id": "5cfd133b",
   "metadata": {},
   "outputs": [],
   "source": [
    "jayati['name']='maya'"
   ]
  },
  {
   "cell_type": "code",
   "execution_count": 26,
   "id": "5e47ecd8",
   "metadata": {},
   "outputs": [
    {
     "data": {
      "text/plain": [
       "{'name': 'maya', 'age': 20, 'hobbies': ['dance', 'sing', 'swim'], 24: 45}"
      ]
     },
     "execution_count": 26,
     "metadata": {},
     "output_type": "execute_result"
    }
   ],
   "source": [
    "jayati"
   ]
  },
  {
   "cell_type": "code",
   "execution_count": 27,
   "id": "00043ca2",
   "metadata": {},
   "outputs": [],
   "source": [
    "del jayati[24]"
   ]
  },
  {
   "cell_type": "code",
   "execution_count": 28,
   "id": "700ac696",
   "metadata": {},
   "outputs": [
    {
     "data": {
      "text/plain": [
       "{'name': 'maya', 'age': 20, 'hobbies': ['dance', 'sing', 'swim']}"
      ]
     },
     "execution_count": 28,
     "metadata": {},
     "output_type": "execute_result"
    }
   ],
   "source": [
    "jayati"
   ]
  },
  {
   "cell_type": "markdown",
   "id": "e887a31a",
   "metadata": {},
   "source": [
    "### adding a new value and key"
   ]
  },
  {
   "cell_type": "code",
   "execution_count": 29,
   "id": "fb79fe7e",
   "metadata": {},
   "outputs": [],
   "source": [
    "jayati.update({'class':'ds'})"
   ]
  },
  {
   "cell_type": "code",
   "execution_count": 30,
   "id": "91c179b9",
   "metadata": {},
   "outputs": [
    {
     "data": {
      "text/plain": [
       "{'name': 'maya',\n",
       " 'age': 20,\n",
       " 'hobbies': ['dance', 'sing', 'swim'],\n",
       " 'class': 'ds'}"
      ]
     },
     "execution_count": 30,
     "metadata": {},
     "output_type": "execute_result"
    }
   ],
   "source": [
    "jayati"
   ]
  },
  {
   "cell_type": "code",
   "execution_count": null,
   "id": "a74a1ee2",
   "metadata": {},
   "outputs": [],
   "source": []
  }
 ],
 "metadata": {
  "kernelspec": {
   "display_name": "Python 3 (ipykernel)",
   "language": "python",
   "name": "python3"
  },
  "language_info": {
   "codemirror_mode": {
    "name": "ipython",
    "version": 3
   },
   "file_extension": ".py",
   "mimetype": "text/x-python",
   "name": "python",
   "nbconvert_exporter": "python",
   "pygments_lexer": "ipython3",
   "version": "3.11.4"
  }
 },
 "nbformat": 4,
 "nbformat_minor": 5
}
